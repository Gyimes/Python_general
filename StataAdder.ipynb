# Interaction to work on an already created Stata repo. a Masterdata is needed

# Functions
global masterdata, homedir, cleandir, dirtydir # For some reason these do not really work, but I am too scared of removing them
from Functions import *
import pandas as pd
# Problemchildren, files that cause problem and are not needed 
problemchildren = ['basetable_example_data', 'fxrates', 'bxmodel', 'calccsi', 'calciri', 'cards', 'calccci', 'calcmcci', 'chesspuzzle', 'clt', 'cordemo', 'cvlassologit', 'datelab', 'diablo', 'exprcmd', 'effmenu1', 'errange', 'ernull', 'excelclean_demo', 'frac_rep', 'find', 'grnotem', 'grlog', 'grols',  'hkwarrant', 'hktrade', 'ltablem', 'lw_unit', 'labsave5', 'meanpt', 'meaning', 'notedit', 'pantob', 'pip_cache', 'pvenn', 'pwrdemo2', 'pwrdemo3', 'prcompw', 'ptransdb', 'python', 'regpt', 'rfluse', 'rflsetmenu', 'sdmdemo', 'ssdlg', 'ssadvdlg', 'ssbindlg', 'sskdlg', 't2demo', 'tabmenu1', 'trackuse', 't_menu', 'varxplor', 'wordy', 'wor', 'w', 'wo', 'word', 'ridge2sls'] # basetable_example_data.ado - tries to download .dta file from the web
forgivenones = ['labedit','pantob06val', 'runmlwin_qshell','sssetdlg']
# Paths
dirtydir = "<path>/Old_ADOs/" # Where the manually added files are
cleandir = "<path>/ADO_Files/" # Where the cleaned and checked files will be moved
logfold = f"<path>/Statalogs/{datetime.now().strftime('%Y%m%d')}"
if not os.path.exists(logfold):
    os.makedirs(logfold)
workingroot = logfold # Where we will keep a record about all installation and search attempt

who, when = User_data() # Get data on who is doing the changes
homedir = f"C:/Users/{who}/ado/plus/" # Where Stata will install instinctually - User specific
currdir = f"C:/Users/{who}/Desktop/Syntax_files/Organise_Stata/" # where jupyter lab is working - User specific
#Call in the master data and the logs of the mnodifications
masterdata = pd.read_csv(f"<path>/Masterdata.csv") # Load the masterdata
masterdata.to_csv(f"<path>/Masterdata_old/Masterdata_{when.replace('-','_')}.csv", index = False) # Saves the version for documentation
modlogs = pd.read_csv(f"<path>/Statamodification_logs/modifications.csv")
intent, action_results, seclogs, ado, who, when = main_interaction(who, when, masterdata, homedir, currdir, cleandir, workingroot, problemchildren, forgivenones, dirtydir)

if action_results == 'Manually changed':
    masterdata.loc[masterdata['File'] == f"{ado}.ado", 'Manually_modified'] = 1
act = 'Removal' if intent == 'Removal' else action_results
changelog = pd.DataFrame({'UST_Member' : [who], 'Date' : [when], 'ADO' : [ado], 'Action' : [act]})
pd.concat([modlogs, changelog]).to_csv(f"E:/Statamodification_logs/modifications.csv", index = False)
cleaned = Get_fileinfo(cleandir)
cleaned['File'] = cleaned['ADO']+'.'+cleaned['Type']
masterdata = pd.merge(cleaned, masterdata, on=['ADO', 'Type', 'File'], how = 'left')

# This part is to ensure that the masterdata is correct and contains all ADOs in the clean directory

if len(masterdata[masterdata.isna().any(axis = 1)])>0):
    print(masterdata[masterdata.isna().any(axis = 1)])
    checker = input("Please fill in the missing details for: ")
    for ado in masterdata[masterdata.isna().any(axis = 1)]['File']:
        print(ado)
        masterdata.loc[masterdata['File'] == ado, 'URL'] = input('URL: ')
        masterdata.loc[masterdata['File'] == ado, 'Parent_ADO'] = input('Parent ADO: ')
        masterdata.loc[masterdata['File'] == ado, 'Last_modified'] = datetime.now().strftime('%d/%m/%Y')
        masterdata.loc[masterdata['File'] == ado, 'Checked'] = 1
        mm = input('Was this ADO modified manually? [y/n]')
        if mm.lower() in ['y', 'yes']:
            mmc = 1
        else:
            mmc = 0
        masterdata.loc[masterdata['File'] == ado, 'Manually_modified'] = mmc



masterdata.to_csv(f"E:/Masterdata.csv", index = False) # Keeps the most up-to-date version
if seclogs is not None:
    seclogs.to_csv(f"{logfold}/Seccheck_log.csv")

subprocess.Popen(['C:\Program Files\CrowdStrike\CsScanCli', '--scan=E:\ADO_Files']) # Run a complete scan on all the files
